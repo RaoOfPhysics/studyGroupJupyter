{
 "cells": [
  {
   "cell_type": "markdown",
   "metadata": {},
   "source": [
    "# Taking Notes\n",
    "\n",
    "The notebook lets you write documents."
   ]
  },
  {
   "cell_type": "markdown",
   "metadata": {},
   "source": [
    "The language used to do formatting is called [Markdown](https://daringfireball.net/projects/markdown/). You can\n",
    "do a lot of formatting:"
   ]
  },
  {
   "cell_type": "markdown",
   "metadata": {},
   "source": [
    "# Lists\n",
    "\n",
    "Todo list before claiming Nobel prize discovery:\n",
    "\n",
    "1. double check calibration\n",
    "2. find notes from meeting with Higgs\n",
    "3. type up notes\n",
    "1. document analysis in a jupyter notebook"
   ]
  },
  {
   "cell_type": "markdown",
   "metadata": {},
   "source": [
    "Tim's shopping list:\n",
    "\n",
    "* milk\n",
    "* ice cream (chocolate)\n",
    "* **pasta**\n",
    "* bananas"
   ]
  },
  {
   "cell_type": "markdown",
   "metadata": {},
   "source": [
    "# Code\n",
    "Igor sent me this code fragment but I don't get why it works:\n",
    "\n",
    "```c++\n",
    "for (i=0; i<n; i++) {\n",
    "  printf(\"hello %d\\n\", i);\n",
    "  x += 4;\n",
    "}\n",
    "```"
   ]
  },
  {
   "cell_type": "markdown",
   "metadata": {},
   "source": [
    "# Equations!\n",
    "\n",
    "It supports LaTeX for equations inline: $y = \\sin(x)$ and display mode:\n",
    "\n",
    "$$\n",
    "a^2 + b^2 = c^2\n",
    "$$"
   ]
  },
  {
   "cell_type": "markdown",
   "metadata": {},
   "source": [
    "# HTML\n",
    "\n",
    "If Markdown can't do it, just use raw HTML. Old school.\n",
    "\n",
    "<a href=\"https://unsplash.com/photos/SNvM__wc1jE\">\n",
    "<img src=\"imgs/one-scene.jpeg\" width=\"1024\" />\n",
    "</a>\n",
    "*(c) Wolfgang Moritzer*\n"
   ]
  },
  {
   "cell_type": "markdown",
   "metadata": {},
   "source": [
    "# But wait, there is more\n",
    "\n",
    "The best part is you can mix executable code with your notes:"
   ]
  },
  {
   "cell_type": "code",
   "execution_count": null,
   "metadata": {
    "collapsed": false
   },
   "outputs": [],
   "source": [
    "# Taken from https://github.com/fperez/talk-1504-boulder/blob/master/QuickTour.ipynb\n",
    "%matplotlib inline\n",
    "import matplotlib.pyplot as plt\n",
    "from scipy import special\n",
    "import numpy as np\n",
    "def plot_bessel(xmax=20, nmin=0, nmax=10, nstep=3):\n",
    "    x = np.linspace(0, xmax, 200)\n",
    "    f, ax = plt.subplots()\n",
    "    for n in range(nmin, nmax+1, nstep):\n",
    "        plt.plot(x, special.jn(n, x), label=r'$J_{%i(x)}$' % n)\n",
    "    plt.grid()\n",
    "    plt.legend()\n",
    "    plt.title('Bessel Functions')\n",
    "\n",
    "plot_bessel()"
   ]
  },
  {
   "cell_type": "code",
   "execution_count": null,
   "metadata": {
    "collapsed": false
   },
   "outputs": [],
   "source": [
    "from IPython.html.widgets import interact\n",
    "\n",
    "interact(plot_bessel,\n",
    "         xmax=(10,100.),\n",
    "         nmin=(0, 10),\n",
    "         nmax=(10, 30),\n",
    "         nstep=(1,5));"
   ]
  }
 ],
 "metadata": {
  "kernelspec": {
   "display_name": "Python 3",
   "language": "python",
   "name": "python3"
  },
  "language_info": {
   "codemirror_mode": {
    "name": "ipython",
    "version": 3
   },
   "file_extension": ".py",
   "mimetype": "text/x-python",
   "name": "python",
   "nbconvert_exporter": "python",
   "pygments_lexer": "ipython3",
   "version": "3.5.1"
  }
 },
 "nbformat": 4,
 "nbformat_minor": 0
}
