{
 "cells": [
  {
   "cell_type": "markdown",
   "metadata": {},
   "source": [
    "# Topics\n",
    "\n",
    "We will cover:\n",
    "\n",
    "* Basic math\n",
    "* Exploring modules and getting help\n",
    "* Rich displaying\n",
    "* Inline plots\n",
    "* Interactive inline plots\n",
    "* Interactive elements"
   ]
  },
  {
   "cell_type": "markdown",
   "metadata": {},
   "source": [
    "# Basic math\n",
    "\n",
    "Let's do some basic math to get everyone started:"
   ]
  },
  {
   "cell_type": "code",
   "execution_count": null,
   "metadata": {
    "collapsed": false
   },
   "outputs": [],
   "source": [
    "import math\n",
    "\n",
    "print(\"The square root of 3 is:\", math.sqrt(3))\n",
    "print(\"π is:\", math.pi)\n",
    "print(\"The sin of 90 degrees is:\", math.sin(math.radians(90)))"
   ]
  },
  {
   "cell_type": "markdown",
   "metadata": {},
   "source": [
    "# Exploring modules -- getting help\n",
    "\n",
    "If you do not know what is available inside a module you can get help\n",
    "by hitting *< tab >*."
   ]
  },
  {
   "cell_type": "code",
   "execution_count": null,
   "metadata": {
    "collapsed": true
   },
   "outputs": [],
   "source": [
    "math."
   ]
  },
  {
   "cell_type": "markdown",
   "metadata": {},
   "source": [
    "To get help with a particular function, type `math.sin?`"
   ]
  },
  {
   "cell_type": "code",
   "execution_count": null,
   "metadata": {
    "collapsed": true
   },
   "outputs": [],
   "source": [
    "math.erf?"
   ]
  },
  {
   "cell_type": "code",
   "execution_count": null,
   "metadata": {
    "collapsed": true
   },
   "outputs": [],
   "source": [
    "s = \"Hello!\""
   ]
  },
  {
   "cell_type": "code",
   "execution_count": null,
   "metadata": {
    "collapsed": false
   },
   "outputs": [],
   "source": [
    "s.join() # or press <shift>+<tab> inside the brackets"
   ]
  },
  {
   "cell_type": "markdown",
   "metadata": {},
   "source": [
    "# A notebook can display (nearly) anything\n",
    "\n",
    "Because the notebook runs in your browser it can display nearly anything. Basically\n",
    "anything your browser can display is allowed."
   ]
  },
  {
   "cell_type": "code",
   "execution_count": null,
   "metadata": {
    "collapsed": false
   },
   "outputs": [],
   "source": [
    "from IPython.display import Image\n",
    "Image('imgs/leonardo.jpg')"
   ]
  },
  {
   "cell_type": "code",
   "execution_count": null,
   "metadata": {
    "collapsed": false
   },
   "outputs": [],
   "source": [
    "# HTML\n",
    "from IPython.display import HTML\n",
    "HTML('<b>Hello world!</b>')"
   ]
  },
  {
   "cell_type": "code",
   "execution_count": null,
   "metadata": {
    "collapsed": false
   },
   "outputs": [],
   "source": [
    "# Artsy videos\n",
    "from IPython.display import VimeoVideo\n",
    "VimeoVideo(\"150594088\")"
   ]
  },
  {
   "cell_type": "code",
   "execution_count": null,
   "metadata": {
    "collapsed": false
   },
   "outputs": [],
   "source": [
    "# LaTeX!\n",
    "from IPython.display import Latex\n",
    "Latex(r\"\"\"\\begin{eqnarray}\n",
    "\\nabla \\times \\vec{\\mathbf{B}} -\\, \\frac1c\\, \n",
    "\\frac{\\partial\\vec{\\mathbf{E}}}{\\partial t} & = & \\frac{4\\pi}{c}\\vec{\\mathbf{j}} \\\\\n",
    "\\nabla \\cdot \\vec{\\mathbf{E}} & = & 4 \\pi \\rho \\\\\n",
    "\\nabla \\times \\vec{\\mathbf{E}}\\, +\\, \\frac1c\\, \n",
    "\\frac{\\partial\\vec{\\mathbf{B}}}{\\partial t} & = & \\vec{\\mathbf{0}} \\\\\n",
    "\\nabla \\cdot \\vec{\\mathbf{B}} & = & 0 \n",
    "\\end{eqnarray}\"\"\")"
   ]
  },
  {
   "cell_type": "markdown",
   "metadata": {},
   "source": [
    "## Custom objects\n",
    "\n",
    "You can teach your own classes how to display themselves! Read the [Rich display](http://ipython.readthedocs.org/en/stable/config/integrating.html?#rich-display) help."
   ]
  },
  {
   "cell_type": "code",
   "execution_count": null,
   "metadata": {
    "collapsed": false
   },
   "outputs": [],
   "source": [
    "class Apple:\n",
    "    def __init__(self, colour):\n",
    "        self.colour = colour\n",
    "\n",
    "    def _repr_html_(self):\n",
    "        if self.colour == 'green':\n",
    "            url = (\"https://www.infusioneliquid.com/wp-content\"\n",
    "                  \"/uploads/2013/12/Green-Apples.jpg\")\n",
    "        elif self.colour == 'red':\n",
    "            url = (\"http://boutonrougedesigns.com/wp-content\"\n",
    "                   \"/uploads/red-apple.jpg\")\n",
    "            \n",
    "        else:\n",
    "            url = (\"http://static1.squarespace.com/static\"\n",
    "                   \"/51623c20e4b01df404d682ae/t/542d5d05e4b09d76c5f801d8\"\n",
    "                   \"/1412259082640/Be+the+job+candidate+that+stands+out+\"\n",
    "                   \"from+the+rest+and+the+one+recruitment+consultants+choose+jpeg\")\n",
    "\n",
    "        return \"<img src=%s />\"%url        "
   ]
  },
  {
   "cell_type": "code",
   "execution_count": null,
   "metadata": {
    "collapsed": false
   },
   "outputs": [],
   "source": [
    "Apple(\"red\")"
   ]
  },
  {
   "cell_type": "markdown",
   "metadata": {},
   "source": [
    "# Inline plots\n",
    "\n",
    "You can display your plots right next to the code that made them."
   ]
  },
  {
   "cell_type": "code",
   "execution_count": null,
   "metadata": {
    "collapsed": true
   },
   "outputs": [],
   "source": [
    "# Matplotlib\n",
    "%config InlineBackend.figure_format='retina'\n",
    "# gives you interactive plots\n",
    "%matplotlib notebook\n",
    "# rendered inline plots\n",
    "#%matplotlib inline\n",
    "\n",
    "import matplotlib.pyplot as plt\n",
    "plt.rcParams[\"figure.figsize\"] = (6, 6)\n",
    "plt.rcParams[\"figure.max_open_warning\"] = -1"
   ]
  },
  {
   "cell_type": "code",
   "execution_count": null,
   "metadata": {
    "collapsed": false
   },
   "outputs": [],
   "source": [
    "# Taken from https://github.com/fperez/talk-1504-boulder/blob/master/QuickTour.ipynb\n",
    "from scipy import special\n",
    "import numpy as np\n",
    "\n",
    "def plot_bessel(xmax=20, nmin=0, nmax=10, nstep=3):\n",
    "    x = np.linspace(0, xmax, 200)\n",
    "    f, ax = plt.subplots()\n",
    "    for n in range(nmin, nmax+1, nstep):\n",
    "        plt.plot(x, special.jn(n, x), label=r'$J_{%i(x)}$' % n)\n",
    "    plt.grid()\n",
    "    plt.legend()\n",
    "    plt.title('Bessel Functions')\n",
    "\n",
    "plot_bessel()"
   ]
  },
  {
   "cell_type": "markdown",
   "metadata": {},
   "source": [
    "## Interactive interactive plots (twice as interactive!)\n",
    "\n",
    "IPython makes it super easy to build little webapps:"
   ]
  },
  {
   "cell_type": "code",
   "execution_count": null,
   "metadata": {
    "collapsed": false
   },
   "outputs": [],
   "source": [
    "from IPython.html.widgets import interact\n",
    "\n",
    "interact(plot_bessel, xmax=(10,100.), nmin=(0, 10),\n",
    "         nmax=(10, 30), nstep=(1,5));"
   ]
  },
  {
   "cell_type": "code",
   "execution_count": null,
   "metadata": {
    "collapsed": true
   },
   "outputs": [],
   "source": []
  }
 ],
 "metadata": {
  "kernelspec": {
   "display_name": "Python 3",
   "language": "python",
   "name": "python3"
  },
  "language_info": {
   "codemirror_mode": {
    "name": "ipython",
    "version": 3
   },
   "file_extension": ".py",
   "mimetype": "text/x-python",
   "name": "python",
   "nbconvert_exporter": "python",
   "pygments_lexer": "ipython3",
   "version": "3.5.1"
  }
 },
 "nbformat": 4,
 "nbformat_minor": 0
}
